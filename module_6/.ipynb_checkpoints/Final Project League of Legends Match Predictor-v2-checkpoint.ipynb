{
 "cells": [
  {
   "cell_type": "markdown",
   "metadata": {},
   "source": [
    "<img src=\"https://cf-courses-data.s3.us.cloud-object-storage.appdomain.cloud/assets/logos/SN_web_lightmode.png\" height=300 width=300 />\n"
   ]
  },
  {
   "cell_type": "markdown",
   "metadata": {},
   "source": [
    "# Final Project: League of Legends Match Predictor \n"
   ]
  },
  {
   "cell_type": "markdown",
   "metadata": {},
   "source": [
    "### Introduction  \n",
    "\n",
    "League of Legends, a popular multiplayer online battle arena (MOBA) game, generates extensive data from matches, providing an excellent opportunity to apply machine learning techniques to real-world scenarios. Perform the following steps to build a logistic regression model aimed at predicting the outcomes of League of Legends matches.  \n",
    "\n",
    "Use the [league_of_legends_data_large.csv](https://cf-courses-data.s3.us.cloud-object-storage.appdomain.cloud/rk7VDaPjMp1h5VXS-cUyMg/league-of-legends-data-large.csv) file to perform the tasks.  \n",
    "\n",
    "### Step 1: Data Loading and Preprocessing  \n",
    "\n",
    "#### Task 1: Load the League of Legends dataset and preprocess it for training.  \n",
    "\n",
    "Loading and preprocessing the dataset involves reading the data, splitting it into training and testing sets, and standardizing the features. You will utilize `pandas` for data manipulation, `train_test_split` from `sklearn` for data splitting, and `StandardScaler` for feature scaling.  \n",
    "\n",
    "Note: Please ensure all the required libraries are installed and imported.\n",
    "\n",
    "1 .Load the dataset:\n",
    "Use `pd.read_csv()` to load the dataset into a pandas DataFrame.</br>\n",
    "2. Split data into features and target: Separate win (target) and the remaining columns (features).</br>\n",
    "   X = data.drop('win', axis=1)</br>\n",
    "   y = data['win'] </br>\n",
    "3 .Split the Data into Training and Testing Sets:\n",
    "Use `train_test_split()` from `sklearn.model_selection` to divide the data. Set `test_size`=0.2 to allocate 20% for testing and 80% for training, and use `random_state`=42 to ensure reproducibility of the split.</br>\n",
    "4. Standardize the features:\n",
    "Use `StandardScaler()` from sklearn.preprocessing to scale the features.</br>\n",
    "5. Convert to PyTorch tensors:\n",
    "Use `torch.tensor()` to convert the data to PyTorch tensors.\n",
    "\n",
    "#### Exercise 1:  \n",
    "\n",
    "Write a code to load the dataset, split it into training and testing sets, standardize the features, and convert the data into PyTorch tensors for use in training a PyTorch model.  \n"
   ]
  },
  {
   "cell_type": "markdown",
   "metadata": {},
   "source": [
    "### Setup\n",
    "Installing required libraries:\n",
    "\n",
    "The following required libraries are not pre-installed in the Skills Network Labs environment. You will need to run the following cell to install them:\n"
   ]
  },
  {
   "cell_type": "code",
   "execution_count": 1,
   "metadata": {},
   "outputs": [],
   "source": [
    "#!pip install pandas\n",
    "#!pip install scikit-learn\n",
    "#!pip install torch\n",
    "#!pip install matplotlib\n"
   ]
  },
  {
   "cell_type": "code",
   "execution_count": 2,
   "metadata": {},
   "outputs": [
    {
     "data": {
      "text/plain": [
       "'X shape: (1000, 8)'"
      ]
     },
     "metadata": {},
     "output_type": "display_data"
    },
    {
     "data": {
      "text/plain": [
       "'y shape: (1000,)'"
      ]
     },
     "metadata": {},
     "output_type": "display_data"
    },
    {
     "data": {
      "text/plain": [
       "'X_train shape: (800, 8)'"
      ]
     },
     "metadata": {},
     "output_type": "display_data"
    },
    {
     "data": {
      "text/plain": [
       "'y_train shape: (800,)'"
      ]
     },
     "metadata": {},
     "output_type": "display_data"
    },
    {
     "data": {
      "text/plain": [
       "'X_test shape: (200, 8)'"
      ]
     },
     "metadata": {},
     "output_type": "display_data"
    },
    {
     "data": {
      "text/plain": [
       "'y_test shape: (200,)'"
      ]
     },
     "metadata": {},
     "output_type": "display_data"
    }
   ],
   "source": [
    "## libraries\n",
    "import pandas as pd\n",
    "from sklearn.model_selection import train_test_split\n",
    "from sklearn.preprocessing import StandardScaler\n",
    "import torch\n",
    "from torch.utils.data import DataLoader, TensorDataset\n",
    "\n",
    "#Step 1\n",
    "data = pd.read_csv(\"league_of_legends_data_large.csv\")\n",
    "#display(data.head())\n",
    "\n",
    "#Step 2\n",
    "X = data.drop('win', axis=1)\n",
    "y = data['win']\n",
    "#display(X.head())\n",
    "#display(y.head())\n",
    "display(f'X shape: {X.shape}')\n",
    "display(f'y shape: {y.shape}')\n",
    "\n",
    "# Step 3\n",
    "X_train, X_test, y_train, y_test = train_test_split(X, y, test_size=0.2, random_state=42, stratify=y)\n",
    "\n",
    "display(f'X_train shape: {X_train.shape}')\n",
    "display(f'y_train shape: {y_train.shape}')\n",
    "display(f'X_test shape: {X_test.shape}')\n",
    "display(f'y_test shape: {y_test.shape}')\n",
    "\n",
    "#Step 4\n",
    "scaler = StandardScaler()\n",
    "X_train = scaler.fit_transform(X_train)\n",
    "X_test = scaler.transform(X_test)\n",
    "\n",
    "#Step 5\n",
    "X_train = torch.tensor(X_train, dtype=torch.float32)\n",
    "X_test = torch.tensor(X_test, dtype=torch.float32)\n",
    "y_train = torch.tensor(y_train.values, dtype=torch.long)\n",
    "y_test = torch.tensor(y_test.values, dtype=torch.long)"
   ]
  },
  {
   "cell_type": "markdown",
   "metadata": {},
   "source": [
    "### Step 2: Logistic Regression Model  \n",
    "\n",
    "#### Task 2: Implement a logistic regression model using PyTorch.  \n",
    "\n",
    "Defining the logistic regression model involves specifying the input dimensions, the forward pass using the sigmoid activation function, and initializing the model, loss function, and optimizer.  \n",
    "\n",
    "1 .Define the Logistic Regression Model:</br>\n",
    "  Create a class LogisticRegressionModel that inherits from torch.nn.Module.</br>\n",
    " - In the `__init__()` method, define a linear layer (nn.Linear) to implement the logistic regression model.</br>\n",
    "- The `forward()` method should apply the sigmoid activation function to the output of the linear layer.</br>\n",
    "\n",
    "2.Initialize the Model, Loss Function, and Optimizer:</br>\n",
    "- Set input_dim: Use `X_train.shape[1]` to get the number of features from the training data (X_train).</br>\n",
    "- Initialize the model: Create an instance of the LogisticRegressionModel class  (e.g., `model = LogisticRegressionModel()`)while passing input_dim as a parameter</br>\n",
    "- Loss Function: Use `BCELoss()` from torch.nn (Binary Cross-Entropy Loss).</br>\n",
    "- Optimizer: Initialize the optimizer using `optim.SGD()` with a learning rate of 0.01</br>\n",
    "\n",
    "#### Exercise 2:  \n",
    "\n",
    "Define the logistic regression model using PyTorch, specifying the input dimensions and the forward pass. Initialize the model, loss function, and optimizer.  \n"
   ]
  },
  {
   "cell_type": "code",
   "execution_count": 3,
   "metadata": {},
   "outputs": [
    {
     "name": "stdout",
     "output_type": "stream",
     "text": [
      "8\n",
      "LogisticRegressionModel(\n",
      "  (linear): Linear(in_features=8, out_features=1, bias=True)\n",
      ")\n"
     ]
    }
   ],
   "source": [
    "import torch.nn as nn\n",
    "\n",
    "## Step 1 - Logistic Regression Model\n",
    "class LogisticRegressionModel(nn.Module):\n",
    "    \n",
    "    # Constructor\n",
    "    def __init__(self, n_inputs):\n",
    "        super(LogisticRegressionModel, self).__init__()\n",
    "        self.linear = nn.Linear(n_inputs, 1)\n",
    "        \n",
    "    # Prediction\n",
    "    def forward(self, x):\n",
    "        yhat = torch.sigmoid(self.linear(x))\n",
    "        return yhat\n",
    "\n",
    "#Step\n",
    "print(X_train.shape[1])\n",
    "input_dim=X_train.shape[1]\n",
    "\n",
    "model = LogisticRegressionModel(input_dim)\n",
    "criterion = nn.BCELoss()\n",
    "optimizer = torch.optim.SGD(model.parameters(), lr = 0.01)\n",
    "\n",
    "print(model)"
   ]
  },
  {
   "cell_type": "markdown",
   "metadata": {},
   "source": [
    "### Step 3: Model Training  \n",
    "\n",
    "#### Task 3: Train the logistic regression model on the dataset.  \n",
    "\n",
    "The training loop will run for a specified number of epochs. In each epoch, the model makes predictions, calculates the loss, performs backpropagation, and updates the model parameters.\n",
    "\n",
    "1. Set Number of Epochs:  \n",
    "   - Define the number of epochs for training to 1000.\n",
    "\n",
    "2. Training Loop:  \n",
    "   For each epoch:\n",
    "   - Set the model to training mode using `model.train()`.\n",
    "   - Zero the gradients using `optimizer.zero_grad()`.\n",
    "   - Pass the training data (`X_train`) through the model to get the predictions (`outputs`).\n",
    "   - Calculate the loss using the defined loss function (`criterion`).\n",
    "   - Perform backpropagation with `loss.backward()`.\n",
    "   - Update the model's weights using `optimizer.step()`.\n",
    "\n",
    "3. Print Loss Every 100 Epochs:  \n",
    "   - After every 100 epochs, print the current epoch number and the loss value.\n",
    "\n",
    "4. Model Evaluation:  \n",
    "   - Set the model to evaluation mode using `model.eval()`.\n",
    "   - Use `torch.no_grad()` to ensure no gradients are calculated during evaluation.\n",
    "   - Get predictions on both the training set (`X_train`) and the test set (`X_test`).\n",
    "\n",
    "5. Calculate Accuracy:  \n",
    "   - For both the training and test datasets, compute the accuracy by comparing the predicted values with the true values (`y_train`, `y_test`).\n",
    "   - Use a threshold of 0.5 for classification\n",
    "   \n",
    "6. Print Accuracy:  \n",
    "   - Print the training and test accuracies after the evaluation is complete.\n",
    "\n",
    "#### Exercise 3:  \n",
    "\n",
    "Write the code to train the logistic regression model on the dataset. Implement the training loop, making predictions, calculating the loss, performing backpropagation, and updating model parameters. Evaluate the model's accuracy on training and testing sets.  \n"
   ]
  },
  {
   "cell_type": "code",
   "execution_count": 4,
   "metadata": {},
   "outputs": [
    {
     "name": "stdout",
     "output_type": "stream",
     "text": [
      "Epoch [1/1000], Train Loss: 0.0733, Test Loss: 0.0753\n",
      "Epoch [101/1000], Train Loss: 0.0691, Test Loss: 0.0683\n",
      "Epoch [201/1000], Train Loss: 0.0691, Test Loss: 0.0683\n",
      "Epoch [301/1000], Train Loss: 0.0691, Test Loss: 0.0683\n",
      "Epoch [401/1000], Train Loss: 0.0691, Test Loss: 0.0683\n",
      "Epoch [501/1000], Train Loss: 0.0691, Test Loss: 0.0683\n",
      "Epoch [601/1000], Train Loss: 0.0691, Test Loss: 0.0683\n",
      "Epoch [701/1000], Train Loss: 0.0691, Test Loss: 0.0683\n",
      "Epoch [801/1000], Train Loss: 0.0691, Test Loss: 0.0683\n",
      "Epoch [901/1000], Train Loss: 0.0691, Test Loss: 0.0683\n",
      "The accuracy for Train data is:  tensor(0.6000)\n",
      "The accuracy for Test data is:  tensor(0.7000)\n"
     ]
    }
   ],
   "source": [
    "#Step 1\n",
    "epochs = 1000\n",
    "train_losses = []\n",
    "test_losses = []\n",
    "\n",
    "#Fixes deprecation error \n",
    "# \"ValueError: Using a target size (torch.Size([800]))\n",
    "# that is different to the input size (torch.Size([800, 1])) is deprecated. when was this changed\"\n",
    "#y_train_corrected = y_train.float().unsqueeze(1)\n",
    "#y_test_corrected = y_test.float().unsqueeze(1)\n",
    "\n",
    "# Create DataLoader for training and test sets\n",
    "train_dataset = TensorDataset(X_train, y_train)\n",
    "test_dataset = TensorDataset(X_test, y_test)\n",
    "\n",
    "for epoch in range(epochs):\n",
    "    # Training phase\n",
    "    model.train()\n",
    "    running_loss = 0.0\n",
    "    for X_batch, y_batch in DataLoader(train_dataset, batch_size=10, shuffle=True):\n",
    "        optimizer.zero_grad()\n",
    "        outputs = model(X_batch)\n",
    "        #Fixes deprecation error \n",
    "        y_train_corrected = y_batch.float().unsqueeze(1)\n",
    "        loss = criterion(outputs, y_train_corrected)\n",
    "        loss.backward()\n",
    "        optimizer.step()\n",
    "        running_loss += loss.item()\n",
    "\n",
    "    train_loss = running_loss / len(train_dataset)\n",
    "    train_losses.append(train_loss)\n",
    "    \n",
    "    # Evaluation phase on test set\n",
    "    model.eval()\n",
    "    test_loss = 0.0\n",
    "    with torch.no_grad():\n",
    "        for X_batch, y_batch in DataLoader(test_dataset, batch_size=10, shuffle=False):\n",
    "            test_outputs = model(X_batch)\n",
    "            #Fixes deprecation error \n",
    "            y_test_corrected = y_batch.float().unsqueeze(1)\n",
    "            loss = criterion(test_outputs, y_test_corrected)\n",
    "            test_loss += loss.item()\n",
    "\n",
    "    test_loss /= len(test_dataset)\n",
    "    test_losses.append(test_loss)\n",
    "\n",
    "    #Step 3\n",
    "    if epoch % 100 == 0:\n",
    "        print(f'Epoch [{epoch + 1}/{epochs}], Train Loss: {train_loss:.4f}, Test Loss: {test_loss:.4f}')\n",
    "\n",
    "#Step 5 and step 6\n",
    "train_preds_class = (outputs >= 0.5).float()\n",
    "test_preds_class = (test_outputs >= 0.5).float()\n",
    "\n",
    "print(\"The accuracy for Train data is: \", torch.mean((train_preds_class == y_train_corrected.type(torch.ByteTensor)).type(torch.float)))\n",
    "print(\"The accuracy for Test data is: \", torch.mean((test_preds_class == y_test_corrected.type(torch.ByteTensor)).type(torch.float)))"
   ]
  },
  {
   "cell_type": "markdown",
   "metadata": {},
   "source": [
    "### Step 4: Model Optimization and Evaluation  \n",
    "\n",
    "#### Task 4: Implement optimization techniques and evaluate the model's performance.  \n",
    "\n",
    "Optimization techniques such as L2 regularization (Ridge Regression) help in preventing overfitting. The model is retrained with these optimizations, and its performance is evaluated on both training and testing sets. \n",
    "\n",
    "**Weight Decay** :In the context of machine learning and specifically in optimization algorithms, weight_decay is a parameter used to apply L2 regularization to the model's parameters (weights). It helps prevent the model from overfitting by penalizing large weight values, thereby encouraging the model to find simpler solutions.To use L2 regularization, you need to modify the optimizer by setting the weight_decay parameter. The weight_decay parameter in the optimizer adds the L2 regularization term during training.\n",
    "For example, when you initialize the optimizer with optim.SGD(model.parameters(), lr=0.01, weight_decay=0.01), the weight_decay=0.01 term applies L2 regularization with a strength of 0.01.\n",
    "\n",
    "1. Set Up the Optimizer with L2 Regularization:\n",
    "   - Modify the optimizer to include `weight_decay` for L2 regularization.\n",
    "   - Example:\n",
    "     ```python\n",
    "     optimizer = optim.SGD(model.parameters(), lr=0.01, weight_decay=0.01)\n",
    "     ```\n",
    "2. Train the Model with L2 Regularization:\n",
    "    - Follow the same steps as before but use the updated optimizer with regularization during training.\n",
    "    - Use epochs=1000\n",
    "   \n",
    "3. Evaluate the Optimized Model:\n",
    "   - After training, evaluate the model on both the training and test datasets.\n",
    "   - Compute the accuracy for both sets by comparing the model's predictions to the true labels (`y_train` and `y_test`).\n",
    "\n",
    "4. Calculate and Print the Accuracy:\n",
    "   - Use a threshold of 0.5 to determine whether the model's predictions are class 0 or class 1.\n",
    "   - Print the training accuracy and test accuracy  after evaluation.\n",
    "\n",
    "\n",
    "#### Exercise 4:  \n",
    "\n",
    "Implement optimization techniques like L2 regularization and retrain the model. Evaluate the performance of the optimized model on both training and testing sets.  \n"
   ]
  },
  {
   "cell_type": "code",
   "execution_count": 5,
   "metadata": {},
   "outputs": [
    {
     "name": "stdout",
     "output_type": "stream",
     "text": [
      "8\n",
      "Epoch [1/1000], Train Loss: 0.0723, Test Loss: 0.0682\n",
      "Epoch [101/1000], Train Loss: 0.0692, Test Loss: 0.0683\n",
      "Epoch [201/1000], Train Loss: 0.0692, Test Loss: 0.0683\n",
      "Epoch [301/1000], Train Loss: 0.0692, Test Loss: 0.0684\n",
      "Epoch [401/1000], Train Loss: 0.0692, Test Loss: 0.0683\n",
      "Epoch [501/1000], Train Loss: 0.0692, Test Loss: 0.0684\n",
      "Epoch [601/1000], Train Loss: 0.0692, Test Loss: 0.0683\n",
      "Epoch [701/1000], Train Loss: 0.0692, Test Loss: 0.0683\n",
      "Epoch [801/1000], Train Loss: 0.0692, Test Loss: 0.0683\n",
      "Epoch [901/1000], Train Loss: 0.0692, Test Loss: 0.0684\n",
      "The accuracy for Train data is:  tensor(0.5000)\n",
      "The accuracy for Test data is:  tensor(0.7000)\n"
     ]
    }
   ],
   "source": [
    "#Step\n",
    "print(X_train.shape[1])\n",
    "input_dim=X_train.shape[1]\n",
    "\n",
    "model_optimizer = LogisticRegressionModel(input_dim)\n",
    "criterion = nn.BCELoss()\n",
    "optimizer = torch.optim.SGD(model_optimizer.parameters(), lr = 0.01, momentum=0.3, weight_decay=0.01, dampening=0 )\n",
    "\n",
    "\n",
    "#Step 1\n",
    "epochs = 1000\n",
    "train_losses = []\n",
    "test_losses = []\n",
    "\n",
    "#Fixes deprecation error \n",
    "# \"ValueError: Using a target size (torch.Size([800]))\n",
    "# that is different to the input size (torch.Size([800, 1])) is deprecated. when was this changed\"\n",
    "#y_train_corrected = y_train.float().unsqueeze(1)\n",
    "#y_test_corrected = y_test.float().unsqueeze(1)\n",
    "\n",
    "# Create DataLoader for training and test sets\n",
    "train_dataset = TensorDataset(X_train, y_train)\n",
    "test_dataset = TensorDataset(X_test, y_test)\n",
    "\n",
    "for epoch in range(epochs):\n",
    "    # Training phase\n",
    "    model_optimizer.train()\n",
    "    running_loss = 0.0\n",
    "    for X_batch, y_batch in DataLoader(train_dataset, batch_size=10, shuffle=True):\n",
    "        optimizer.zero_grad()\n",
    "        outputs = model_optimizer(X_batch)\n",
    "        #Fixes deprecation error \n",
    "        y_train_corrected = y_batch.float().unsqueeze(1)\n",
    "        loss = criterion(outputs, y_train_corrected)\n",
    "        loss.backward()\n",
    "        optimizer.step()\n",
    "        running_loss += loss.item()\n",
    "\n",
    "    train_loss = running_loss / len(train_dataset)\n",
    "    train_losses.append(train_loss)\n",
    "    \n",
    "    # Evaluation phase on test set\n",
    "    model_optimizer.eval()\n",
    "    test_loss = 0.0\n",
    "    with torch.no_grad():\n",
    "        for X_batch, y_batch in DataLoader(test_dataset, batch_size=10, shuffle=False):\n",
    "            test_outputs = model_optimizer(X_batch)\n",
    "            #Fixes deprecation error \n",
    "            y_test_corrected = y_batch.float().unsqueeze(1)\n",
    "            loss = criterion(test_outputs, y_test_corrected)\n",
    "            test_loss += loss.item()\n",
    "\n",
    "    test_loss /= len(test_dataset)\n",
    "    test_losses.append(test_loss)\n",
    "\n",
    "    #Step 3\n",
    "    if epoch % 100 == 0:\n",
    "        print(f'Epoch [{epoch + 1}/{epochs}], Train Loss: {train_loss:.4f}, Test Loss: {test_loss:.4f}')\n",
    "\n",
    "#Step 5 and step 6\n",
    "train_preds_class = (outputs >= 0.5).float()\n",
    "test_preds_class = (test_outputs >= 0.5).float()\n",
    "\n",
    "print(\"The accuracy for Train data is: \", torch.mean((train_preds_class == y_train_corrected.type(torch.ByteTensor)).type(torch.float)))\n",
    "print(\"The accuracy for Test data is: \", torch.mean((test_preds_class == y_test_corrected.type(torch.ByteTensor)).type(torch.float)))"
   ]
  },
  {
   "cell_type": "markdown",
   "metadata": {},
   "source": [
    "### Step 5: Visualization and Interpretation  \n",
    "\n",
    "Visualization tools like confusion matrices and ROC curves provide insights into the model's performance. The confusion matrix helps in understanding the classification accuracy, while the ROC curve illustrates the trade-off between sensitivity and specificity.\n",
    "\n",
    "Confusion Matrix : A Confusion Matrix is a fundamental tool used in classification problems to evaluate the performance of a model. It provides a matrix showing the number of correct and incorrect predictions made by the model, categorized by the actual and predicted classes.\n",
    "Where \n",
    "-  True Positive (TP): Correctly predicted positive class (class 1).\n",
    "- True Negative (TN): Correctly predicted negative class (class 0).\n",
    "- False Positive (FP): Incorrectly predicted as positive (class 1), but the actual class is negative (class 0). This is also called a Type I error.\n",
    "- False Negative (FN): Incorrectly predicted as negative (class 0), but the actual class is positive (class 1). This is also called a Type II error. \n",
    "\n",
    "ROC Curve (Receiver Operating Characteristic Curve):\n",
    "The ROC Curve is a graphical representation used to evaluate the performance of a binary classification model across all classification thresholds. It plots two metrics:\n",
    "- True Positive Rate (TPR) or Recall (Sensitivity)-It is the proportion of actual positive instances (class 1) that were correctly classified as positive by the model.\n",
    "- False Positive Rate (FPR)-It is the proportion of actual negative instances (class 0) that were incorrectly classified as positive by the model.\n",
    "  \n",
    "AUC: \n",
    "AUC stands for Area Under the Curve and is a performance metric used to evaluate the quality of a binary classification model. Specifically, it refers to the area under the ROC curve (Receiver Operating Characteristic curve), which plots the True Positive Rate (TPR) versus the False Positive Rate (FPR) for different threshold values.\n",
    "\n",
    "Classification Report:\n",
    "A Classification Report is a summary of various classification metrics, which are useful for evaluating the performance of a classifier on the given dataset.\n",
    "\n",
    "#### Exercise 5:  \n",
    "\n",
    "Write code to visualize the model's performance using confusion matrices and ROC curves. Generate classification reports to evaluate precision, recall, and F1-score. Retrain the model with L2 regularization and evaluate the performance.\n"
   ]
  },
  {
   "cell_type": "code",
   "execution_count": 6,
   "metadata": {},
   "outputs": [
    {
     "data": {
      "text/plain": [
       "'y shape: torch.Size([200, 1])'"
      ]
     },
     "metadata": {},
     "output_type": "display_data"
    },
    {
     "data": {
      "text/plain": [
       "'y train: torch.Size([200])'"
      ]
     },
     "metadata": {},
     "output_type": "display_data"
    },
    {
     "data": {
      "text/plain": [
       "'y pred: torch.Size([200, 1])'"
      ]
     },
     "metadata": {},
     "output_type": "display_data"
    },
    {
     "data": {
      "image/png": "[encoded data removed]",
      "text/plain": [
       "<Figure size 600x400 with 1 Axes>"
      ]
     },
     "metadata": {},
     "output_type": "display_data"
    },
    {
     "data": {
      "image/png": "[encoded data removed]",
      "text/plain": [
       "<Figure size 700x500 with 1 Axes>"
      ]
     },
     "metadata": {},
     "output_type": "display_data"
    },
    {
     "name": "stdout",
     "output_type": "stream",
     "text": [
      "Classification Report:\n",
      "               precision    recall  f1-score   support\n",
      "\n",
      "        Loss       0.54      0.43      0.48        98\n",
      "         Win       0.54      0.65      0.59       102\n",
      "\n",
      "    accuracy                           0.54       200\n",
      "   macro avg       0.54      0.54      0.53       200\n",
      "weighted avg       0.54      0.54      0.53       200\n",
      "\n"
     ]
    }
   ],
   "source": [
    "    #!pip install seaborn\n",
    "\n",
    "import matplotlib.pyplot as plt\n",
    "from sklearn.metrics import confusion_matrix, classification_report, roc_curve, auc\n",
    "import itertools\n",
    "import seaborn as sns\n",
    "\n",
    "# Create DataLoader for training and test sets\n",
    "train_dataset = TensorDataset(X_train, y_train)\n",
    "test_dataset = TensorDataset(X_test, y_test)\n",
    "\n",
    "def conf_matrix(y_train, y_pred):\n",
    "# Calculate the confusion matrix\n",
    "    display(f'y train: {y_train.shape}')\n",
    "    display(f'y pred: {y_pred.shape}')\n",
    "    cm = confusion_matrix(y_train, y_pred)\n",
    "\n",
    "    # Plotting the confusion matrix\n",
    "    plt.figure(figsize=(6, 4))\n",
    "    sns.heatmap(cm, annot=True, fmt='d', cmap='Blues', cbar=False,\n",
    "                xticklabels=['Predicted Negative', 'Predicted Positive'],\n",
    "                yticklabels=['Actual Negative', 'Actual Positive'])\n",
    "    plt.xlabel('Predicted Label')\n",
    "    plt.ylabel('True Label')\n",
    "    plt.title('Confusion Matrix')\n",
    "    plt.show()\n",
    "\n",
    "def aoc_curve(y_train, y_pred):\n",
    "    fpr, tpr, thresholds = roc_curve(y_train, y_pred)\n",
    "\n",
    "    # Calculate AUC score\n",
    "    roc_auc = auc(fpr, tpr)\n",
    "\n",
    "    # Plotting the ROC curve\n",
    "    plt.figure(figsize=(7, 5))\n",
    "    plt.plot(fpr, tpr, label=f'ROC Curve (AUC = {roc_auc:.2f})')\n",
    "    plt.plot([0, 1], [0, 1], 'k--', label='Random Classifier') # Diagonal line for reference\n",
    "    plt.xlabel('False Positive Rate (FPR)')\n",
    "    plt.ylabel('True Positive Rate (TPR)')\n",
    "    plt.title('Receiver Operating Characteristic (ROC) Curve')\n",
    "    plt.legend()\n",
    "    plt.grid(True)\n",
    "    plt.show()\n",
    "\n",
    "# Evaluation phase on test set\n",
    "#model_optimizer.eval()\n",
    "test_loss = 0.0\n",
    "with torch.no_grad():\n",
    "    #for X_batch, y_batch in DataLoader(test_dataset, batch_size=10, shuffle=False):\n",
    "        test_outputs = model_optimizer(X_test)\n",
    "        y_pred_test_labels = (test_outputs > 0.5).float()\n",
    "        display(f'y shape: {y_pred_test_labels.shape}')\n",
    "        conf_matrix(y_test,y_pred_test_labels)\n",
    "        aoc_curve(y_test,y_pred_test_labels)\n",
    "\n",
    "        # Print classification report\n",
    "        print(\"Classification Report:\\n\", classification_report(y_test, y_pred_test_labels, target_names=['Loss', 'Win']))\n"
   ]
  },
  {
   "cell_type": "markdown",
   "metadata": {},
   "source": [
    "Double-click <b>here</b> for the Hint.\n",
    "<!-- \n",
    "\n",
    "#Change the name of variables as per your code\n",
    "import matplotlib.pyplot as plt\n",
    "from sklearn.metrics import confusion_matrix, classification_report, roc_curve, auc\n",
    "import itertools\n",
    "\n",
    "# Visualize the confusion matrix\n",
    "#Change the variable names as used in your code\n",
    "y_pred_test_labels = (y_pred_test > 0.5).float()\n",
    "cm = confusion_matrix(y_test, y_pred_test_labels)\n",
    "\n",
    "plt.figure(figsize=(6, 6))\n",
    "plt.imshow(cm, interpolation='nearest', cmap=plt.cm.Blues)\n",
    "plt.title('Confusion Matrix')\n",
    "plt.colorbar()\n",
    "tick_marks = range(2)\n",
    "plt.xticks(tick_marks, ['Loss', 'Win'], rotation=45)\n",
    "plt.yticks(tick_marks, ['Loss', 'Win'])\n",
    "\n",
    "thresh = cm.max() / 2\n",
    "for i, j in itertools.product(range(cm.shape[0]), range(cm.shape[1])):\n",
    "    plt.text(j, i, cm[i, j], horizontalalignment=\"center\", color=\"white\" if cm[i, j] > thresh else \"black\")\n",
    "\n",
    "plt.tight_layout()\n",
    "plt.ylabel('True label')\n",
    "plt.xlabel('Predicted label')\n",
    "plt.show()\n",
    "\n",
    "# Print classification report\n",
    "print(\"Classification Report:\\n\", classification_report(y_test, y_pred_test_labels, target_names=['Loss', 'Win']))\n",
    "\n",
    "# Plot ROC curve\n",
    "fpr, tpr, thresholds = roc_curve(y_test, y_pred_test)\n",
    "roc_auc = auc(fpr, tpr)\n",
    "\n",
    "plt.figure()\n",
    "plt.plot(fpr, tpr, color='darkorange', lw=2, label=f'ROC curve (area = {roc_auc:.2f})')\n",
    "plt.plot([0, 1], [0, 1], color='navy', lw=2, linestyle='--')\n",
    "plt.xlim([0.0, 1.0])\n",
    "plt.ylim([0.0, 1.05])\n",
    "plt.xlabel('False Positive Rate')\n",
    "plt.ylabel('True Positive Rate')\n",
    "plt.title('Receiver Operating Characteristic (ROC)')\n",
    "plt.legend(loc=\"lower right\")\n",
    "plt.show()\n",
    "-->\n"
   ]
  },
  {
   "cell_type": "markdown",
   "metadata": {},
   "source": [
    "### Step 6: Model Saving and Loading  \n",
    "\n",
    "#### Task 6: Save and load the trained model.  \n",
    "\n",
    "This task demonstrates the techniques to persist a trained model using `torch.save` and reload it using `torch.load`. Evaluating the loaded model ensures that it retains its performance, making it practical for deployment in real-world applications.  \n",
    "\n",
    "1. Saving the Model:\n",
    "- Save the model's learned weights and biases using torch.save().( e.g. , torch.save(model.state_dict(), 'your_model_name.pth'))\n",
    "- Saving only the state dictionary (model parameters) is preferred because it’s more flexible and efficient than saving the entire model object.\n",
    "\n",
    "2. Loading the Model:\n",
    "- Create a new model instance (e.g., `model = LogisticRegressionModel()`) and load the saved parameters. ( e.g. , `model.load_state_dict(torch.load('your_model_name.pth'))`)`.\n",
    "\n",
    "3. Evaluating the Loaded Model:\n",
    "   - After loading, set the model to evaluation mode by calling `model.eval()\n",
    "   - After loading the model, evaluate it again on the test dataset to make sure it performs similarly to when it was first trained..Now evaluate it on the test data.\n",
    "   - Use `torch.no_grad()` to ensure that no gradients are computed.\n",
    "\n",
    "#### Exercise 6:  \n",
    "\n",
    "Write code to save the trained model and reload it. Ensure the loaded model performs consistently by evaluating it on the test dataset.  \n"
   ]
  },
  {
   "cell_type": "code",
   "execution_count": 8,
   "metadata": {},
   "outputs": [
    {
     "name": "stdout",
     "output_type": "stream",
     "text": [
      "The accuracy for Test data is:  tensor(0.7000)\n"
     ]
    }
   ],
   "source": [
    "## Write your code here\n",
    "# Save the model\n",
    "torch.save(model.state_dict(), 'my_model.pth')\n",
    "\n",
    "# Load the model\n",
    "model = LogisticRegressionModel(1)\n",
    "model.load_state_dict(torch.load('my_model.pth'))\n",
    "\n",
    "\n",
    "# Ensure the loaded model is in evaluation mode\n",
    "model.eval()\n",
    "test_loss = 0.0\n",
    "with torch.no_grad():\n",
    "    for X_batch, y_batch in DataLoader(test_dataset, batch_size=10, shuffle=False):\n",
    "        test_outputs = model_optimizer(X_batch)\n",
    "        #Fixes deprecation error \n",
    "        y_test_corrected = y_batch.float().unsqueeze(1)\n",
    "        loss = criterion(test_outputs, y_test_corrected)\n",
    "        test_loss += loss.item()\n",
    "\n",
    "    test_loss /= len(test_dataset)\n",
    "    test_losses.append(test_loss)\n",
    "\n",
    "# Evaluate the loaded model\n",
    "test_preds_class = (test_outputs >= 0.5).float()\n",
    "\n",
    "print(\"The accuracy for Test data is: \", torch.mean((test_preds_class == y_test_corrected.type(torch.ByteTensor)).type(torch.float)))\n"
   ]
  },
  {
   "cell_type": "markdown",
   "metadata": {},
   "source": [
    "### Step 7: Hyperparameter Tuning  \n",
    "\n",
    "#### Task 7: Perform hyperparameter tuning to find the best learning rate.  \n",
    "\n",
    "By testing different learning rates, you will identify the optimal rate that provides the best test accuracy. This fine-tuning is crucial for enhancing model performance . \n",
    "1. Define Learning Rates:\n",
    "   - Choose these learning rates to test ,[0.01, 0.05, 0.1]\n",
    "\n",
    "2. Reinitialize the Model for Each Learning Rate:\n",
    "  - For each learning rate, you’ll need to reinitialize the model and optimizer e.g.(`torch.optim.SGD(model.parameters(), lr=lr)`).\n",
    "   - Each new learning rate requires reinitializing the model since the optimizer and its parameters are linked to the learning rate.\n",
    "\n",
    "3. Train the Model for Each Learning Rate:\n",
    "  - Train the model for a fixed number of epochs (e.g., 50 or 100 epochs) for each learning rate, and compute the accuracy on the test set.\n",
    "  - Track the test accuracy for each learning rate and identify which one yields the best performance.\n",
    "\n",
    "4. Evaluate and Compare:\n",
    "  - After training with each learning rate, compare the test accuracy for each configuration.\n",
    "   - Report the learning rate that gives the highest test accuracy\n",
    "\n",
    "#### Exercise 7:  \n",
    "\n",
    "Perform hyperparameter tuning to find the best learning rate. Retrain the model for each learning rate and evaluate its performance to identify the optimal rate.  \n"
   ]
  },
  {
   "cell_type": "code",
   "execution_count": 9,
   "metadata": {},
   "outputs": [
    {
     "name": "stdout",
     "output_type": "stream",
     "text": [
      "8\n",
      "LogisticRegressionModel(\n",
      "  (linear): Linear(in_features=8, out_features=1, bias=True)\n",
      ")\n"
     ]
    },
    {
     "ename": "KeyboardInterrupt",
     "evalue": "",
     "output_type": "error",
     "traceback": [
      "\u001b[31m---------------------------------------------------------------------------\u001b[39m",
      "\u001b[31mKeyboardInterrupt\u001b[39m                         Traceback (most recent call last)",
      "\u001b[36mCell\u001b[39m\u001b[36m \u001b[39m\u001b[32mIn[9]\u001b[39m\u001b[32m, line 21\u001b[39m\n\u001b[32m     19\u001b[39m \u001b[38;5;28;01mfor\u001b[39;00m X_batch, y_batch \u001b[38;5;129;01min\u001b[39;00m DataLoader(train_dataset, batch_size=\u001b[32m10\u001b[39m, shuffle=\u001b[38;5;28;01mTrue\u001b[39;00m):\n\u001b[32m     20\u001b[39m     optimizer.zero_grad()\n\u001b[32m---> \u001b[39m\u001b[32m21\u001b[39m     outputs = \u001b[43mmodel_optimizer\u001b[49m\u001b[43m(\u001b[49m\u001b[43mX_batch\u001b[49m\u001b[43m)\u001b[49m\n\u001b[32m     22\u001b[39m     \u001b[38;5;66;03m#Fixes deprecation error \u001b[39;00m\n\u001b[32m     23\u001b[39m     y_train_corrected = y_batch.float().unsqueeze(\u001b[32m1\u001b[39m)\n",
      "\u001b[36mFile \u001b[39m\u001b[32m~\\AppData\\Local\\Programs\\Python\\Python312\\Lib\\site-packages\\torch\\nn\\modules\\module.py:1511\u001b[39m, in \u001b[36mModule._wrapped_call_impl\u001b[39m\u001b[34m(self, *args, **kwargs)\u001b[39m\n\u001b[32m   1509\u001b[39m     \u001b[38;5;28;01mreturn\u001b[39;00m \u001b[38;5;28mself\u001b[39m._compiled_call_impl(*args, **kwargs)  \u001b[38;5;66;03m# type: ignore[misc]\u001b[39;00m\n\u001b[32m   1510\u001b[39m \u001b[38;5;28;01melse\u001b[39;00m:\n\u001b[32m-> \u001b[39m\u001b[32m1511\u001b[39m     \u001b[38;5;28;01mreturn\u001b[39;00m \u001b[38;5;28;43mself\u001b[39;49m\u001b[43m.\u001b[49m\u001b[43m_call_impl\u001b[49m\u001b[43m(\u001b[49m\u001b[43m*\u001b[49m\u001b[43margs\u001b[49m\u001b[43m,\u001b[49m\u001b[43m \u001b[49m\u001b[43m*\u001b[49m\u001b[43m*\u001b[49m\u001b[43mkwargs\u001b[49m\u001b[43m)\u001b[49m\n",
      "\u001b[36mFile \u001b[39m\u001b[32m~\\AppData\\Local\\Programs\\Python\\Python312\\Lib\\site-packages\\torch\\nn\\modules\\module.py:1520\u001b[39m, in \u001b[36mModule._call_impl\u001b[39m\u001b[34m(self, *args, **kwargs)\u001b[39m\n\u001b[32m   1515\u001b[39m \u001b[38;5;66;03m# If we don't have any hooks, we want to skip the rest of the logic in\u001b[39;00m\n\u001b[32m   1516\u001b[39m \u001b[38;5;66;03m# this function, and just call forward.\u001b[39;00m\n\u001b[32m   1517\u001b[39m \u001b[38;5;28;01mif\u001b[39;00m \u001b[38;5;129;01mnot\u001b[39;00m (\u001b[38;5;28mself\u001b[39m._backward_hooks \u001b[38;5;129;01mor\u001b[39;00m \u001b[38;5;28mself\u001b[39m._backward_pre_hooks \u001b[38;5;129;01mor\u001b[39;00m \u001b[38;5;28mself\u001b[39m._forward_hooks \u001b[38;5;129;01mor\u001b[39;00m \u001b[38;5;28mself\u001b[39m._forward_pre_hooks\n\u001b[32m   1518\u001b[39m         \u001b[38;5;129;01mor\u001b[39;00m _global_backward_pre_hooks \u001b[38;5;129;01mor\u001b[39;00m _global_backward_hooks\n\u001b[32m   1519\u001b[39m         \u001b[38;5;129;01mor\u001b[39;00m _global_forward_hooks \u001b[38;5;129;01mor\u001b[39;00m _global_forward_pre_hooks):\n\u001b[32m-> \u001b[39m\u001b[32m1520\u001b[39m     \u001b[38;5;28;01mreturn\u001b[39;00m \u001b[43mforward_call\u001b[49m\u001b[43m(\u001b[49m\u001b[43m*\u001b[49m\u001b[43margs\u001b[49m\u001b[43m,\u001b[49m\u001b[43m \u001b[49m\u001b[43m*\u001b[49m\u001b[43m*\u001b[49m\u001b[43mkwargs\u001b[49m\u001b[43m)\u001b[49m\n\u001b[32m   1522\u001b[39m \u001b[38;5;28;01mtry\u001b[39;00m:\n\u001b[32m   1523\u001b[39m     result = \u001b[38;5;28;01mNone\u001b[39;00m\n",
      "\u001b[36mCell\u001b[39m\u001b[36m \u001b[39m\u001b[32mIn[3]\u001b[39m\u001b[32m, line 13\u001b[39m, in \u001b[36mLogisticRegressionModel.forward\u001b[39m\u001b[34m(self, x)\u001b[39m\n\u001b[32m     12\u001b[39m \u001b[38;5;28;01mdef\u001b[39;00m\u001b[38;5;250m \u001b[39m\u001b[34mforward\u001b[39m(\u001b[38;5;28mself\u001b[39m, x):\n\u001b[32m---> \u001b[39m\u001b[32m13\u001b[39m     yhat = torch.sigmoid(\u001b[38;5;28;43mself\u001b[39;49m\u001b[43m.\u001b[49m\u001b[43mlinear\u001b[49m\u001b[43m(\u001b[49m\u001b[43mx\u001b[49m\u001b[43m)\u001b[49m)\n\u001b[32m     14\u001b[39m     \u001b[38;5;28;01mreturn\u001b[39;00m yhat\n",
      "\u001b[36mFile \u001b[39m\u001b[32m~\\AppData\\Local\\Programs\\Python\\Python312\\Lib\\site-packages\\torch\\nn\\modules\\module.py:1511\u001b[39m, in \u001b[36mModule._wrapped_call_impl\u001b[39m\u001b[34m(self, *args, **kwargs)\u001b[39m\n\u001b[32m   1509\u001b[39m     \u001b[38;5;28;01mreturn\u001b[39;00m \u001b[38;5;28mself\u001b[39m._compiled_call_impl(*args, **kwargs)  \u001b[38;5;66;03m# type: ignore[misc]\u001b[39;00m\n\u001b[32m   1510\u001b[39m \u001b[38;5;28;01melse\u001b[39;00m:\n\u001b[32m-> \u001b[39m\u001b[32m1511\u001b[39m     \u001b[38;5;28;01mreturn\u001b[39;00m \u001b[38;5;28;43mself\u001b[39;49m\u001b[43m.\u001b[49m\u001b[43m_call_impl\u001b[49m\u001b[43m(\u001b[49m\u001b[43m*\u001b[49m\u001b[43margs\u001b[49m\u001b[43m,\u001b[49m\u001b[43m \u001b[49m\u001b[43m*\u001b[49m\u001b[43m*\u001b[49m\u001b[43mkwargs\u001b[49m\u001b[43m)\u001b[49m\n",
      "\u001b[36mFile \u001b[39m\u001b[32m~\\AppData\\Local\\Programs\\Python\\Python312\\Lib\\site-packages\\torch\\nn\\modules\\module.py:1520\u001b[39m, in \u001b[36mModule._call_impl\u001b[39m\u001b[34m(self, *args, **kwargs)\u001b[39m\n\u001b[32m   1515\u001b[39m \u001b[38;5;66;03m# If we don't have any hooks, we want to skip the rest of the logic in\u001b[39;00m\n\u001b[32m   1516\u001b[39m \u001b[38;5;66;03m# this function, and just call forward.\u001b[39;00m\n\u001b[32m   1517\u001b[39m \u001b[38;5;28;01mif\u001b[39;00m \u001b[38;5;129;01mnot\u001b[39;00m (\u001b[38;5;28mself\u001b[39m._backward_hooks \u001b[38;5;129;01mor\u001b[39;00m \u001b[38;5;28mself\u001b[39m._backward_pre_hooks \u001b[38;5;129;01mor\u001b[39;00m \u001b[38;5;28mself\u001b[39m._forward_hooks \u001b[38;5;129;01mor\u001b[39;00m \u001b[38;5;28mself\u001b[39m._forward_pre_hooks\n\u001b[32m   1518\u001b[39m         \u001b[38;5;129;01mor\u001b[39;00m _global_backward_pre_hooks \u001b[38;5;129;01mor\u001b[39;00m _global_backward_hooks\n\u001b[32m   1519\u001b[39m         \u001b[38;5;129;01mor\u001b[39;00m _global_forward_hooks \u001b[38;5;129;01mor\u001b[39;00m _global_forward_pre_hooks):\n\u001b[32m-> \u001b[39m\u001b[32m1520\u001b[39m     \u001b[38;5;28;01mreturn\u001b[39;00m \u001b[43mforward_call\u001b[49m\u001b[43m(\u001b[49m\u001b[43m*\u001b[49m\u001b[43margs\u001b[49m\u001b[43m,\u001b[49m\u001b[43m \u001b[49m\u001b[43m*\u001b[49m\u001b[43m*\u001b[49m\u001b[43mkwargs\u001b[49m\u001b[43m)\u001b[49m\n\u001b[32m   1522\u001b[39m \u001b[38;5;28;01mtry\u001b[39;00m:\n\u001b[32m   1523\u001b[39m     result = \u001b[38;5;28;01mNone\u001b[39;00m\n",
      "\u001b[36mFile \u001b[39m\u001b[32m~\\AppData\\Local\\Programs\\Python\\Python312\\Lib\\site-packages\\torch\\nn\\modules\\linear.py:116\u001b[39m, in \u001b[36mLinear.forward\u001b[39m\u001b[34m(self, input)\u001b[39m\n\u001b[32m    115\u001b[39m \u001b[38;5;28;01mdef\u001b[39;00m\u001b[38;5;250m \u001b[39m\u001b[34mforward\u001b[39m(\u001b[38;5;28mself\u001b[39m, \u001b[38;5;28minput\u001b[39m: Tensor) -> Tensor:\n\u001b[32m--> \u001b[39m\u001b[32m116\u001b[39m     \u001b[38;5;28;01mreturn\u001b[39;00m \u001b[43mF\u001b[49m\u001b[43m.\u001b[49m\u001b[43mlinear\u001b[49m\u001b[43m(\u001b[49m\u001b[38;5;28;43minput\u001b[39;49m\u001b[43m,\u001b[49m\u001b[43m \u001b[49m\u001b[38;5;28;43mself\u001b[39;49m\u001b[43m.\u001b[49m\u001b[43mweight\u001b[49m\u001b[43m,\u001b[49m\u001b[43m \u001b[49m\u001b[38;5;28;43mself\u001b[39;49m\u001b[43m.\u001b[49m\u001b[43mbias\u001b[49m\u001b[43m)\u001b[49m\n",
      "\u001b[31mKeyboardInterrupt\u001b[39m: "
     ]
    }
   ],
   "source": [
    "## Write your code here\n",
    "lr_list = [0.01, 0.05, 0.1]\n",
    "\n",
    "\n",
    "print(X_train.shape[1])\n",
    "input_dim=X_train.shape[1]\n",
    "model_lr = LogisticRegressionModel(input_dim)\n",
    "criterion = nn.BCELoss()\n",
    "epochs=1000\n",
    "print(model_lr)\n",
    "\n",
    "\n",
    "for lr in lr_list:\n",
    "    optimizer = torch.optim.SGD(model_lr.parameters(), lr=lr)\n",
    "    for epoch in range(epochs):\n",
    "        # Training phase\n",
    "        z.train()\n",
    "        running_loss = 0.0\n",
    "        for X_batch, y_batch in DataLoader(train_dataset, batch_size=10, shuffle=True):\n",
    "            optimizer.zero_grad()\n",
    "            outputs = model_lr(X_batch)\n",
    "            #Fixes deprecation error \n",
    "            y_train_corrected = y_batch.float().unsqueeze(1)\n",
    "            loss = criterion(outputs, y_train_corrected)\n",
    "            loss.backward()\n",
    "            optimizer.step()\n",
    "            running_loss += loss.item()\n",
    "    \n",
    "        train_loss = running_loss / len(train_dataset)\n",
    "        train_losses.append(train_loss)\n",
    "        \n",
    "        # Evaluation phase on test set\n",
    "        model_lr.eval()\n",
    "        test_loss = 0.0\n",
    "        test_loss_batch = 0.0\n",
    "        with torch.no_grad():\n",
    "            test_outputs = model_lr(X_test)\n",
    "            #Fixes deprecation error \n",
    "            y_test_corrected = y_test.float().unsqueeze(1)\n",
    "            loss = criterion(test_outputs, y_test_corrected)\n",
    "            test_loss += loss.item()\n",
    "            for X_batch, y_batch in DataLoader(test_dataset, batch_size=10, shuffle=False):\n",
    "                test_batch_outputs = model_lr(X_batch)\n",
    "                #Fixes deprecation error \n",
    "                y_test_batch_corrected = y_batch.float().unsqueeze(1)\n",
    "                loss_batch = criterion(test_batch_outputs, y_test_batch_corrected)\n",
    "                test_loss_batch += loss_batch.item()\n",
    "    \n",
    "        test_loss /= len(X_test)\n",
    "        test_losses.append(test_loss)\n",
    "        test_loss_batch /= len(test_dataset)\n",
    "        test_losses.append(test_loss_batch)\n",
    "    \n",
    "    #Step 5 and step 6\n",
    "    train_preds_class = (outputs >= 0.5).float()\n",
    "    test_preds_class = (test_outputs >= 0.5).float()\n",
    "    test_batch_preds_class = (test_batch_outputs >= 0.5).float()\n",
    "    \n",
    "    print(\"The accuracy for Train data for lr: \"+str(lr)+\" is: \", torch.mean((train_preds_class == y_train_corrected.type(torch.ByteTensor)).type(torch.float)))\n",
    "    print(\"The accuracy for Test data for lr:\"+str(lr)+\" is: \", torch.mean((test_preds_class == y_test_corrected.type(torch.ByteTensor)).type(torch.float)))\n",
    "    print(\"The accuracy for Test data for batch size: 10 and lr:\"+str(lr)+\" is: \", torch.mean((test_batch_preds_class == y_test_batch_corrected.type(torch.ByteTensor)).type(torch.float)))\n",
    "\n",
    "print(\"For this hyperparameter exercise, batch size seems to be more efficient than adjusting learning rates\")\n"
   ]
  },
  {
   "cell_type": "markdown",
   "metadata": {},
   "source": [
    "### Step 8: Feature Importance  \n",
    "\n",
    "#### Task 8: Evaluate feature importance to understand the impact of each feature on the prediction.  \n",
    "\n",
    "The code to evaluate feature importance to understand the impact of each feature on the prediction.\n",
    "\n",
    " 1.Extracting Model Weights:\n",
    "  - The weights of the logistic regression model represent the importance of each feature in making predictions. These weights are stored in the model's linear layer (`model.linear.weight`).\n",
    " - You can extract the weights using `model.linear.weight.data.numpy()` and flatten the resulting tensor to get a 1D array of feature importances.\n",
    "\n",
    "2.Creating a DataFrame:\n",
    " - Create a pandas DataFrame with two columns: one for the feature names and the other for their corresponding importance values (i.e., the learned weights).\n",
    " - Ensure the features are aligned with their names in your dataset (e.g., `X_train.columns).\n",
    "\n",
    "3. Sorting and Plotting Feature Importance:\n",
    "  - Sort the features based on the absolute value of their importance (weights) to identify the most impactful features.\n",
    "  - Use a bar plot (via `matplotlib`) to visualize the sorted feature importances, with the feature names on the y-axis and importance values on the x-axis.\n",
    "\n",
    "4. Interpreting the Results:\n",
    "  - Larger absolute weights indicate more influential features. Positive weights suggest a positive correlation with the outcome (likely to predict the positive class), while negative weights suggest the opposite.\n",
    "\n",
    "#### Exercise 8:  \n",
    "\n",
    "Evaluate feature importance by extracting the weights of the linear layer and creating a DataFrame to display the importance of each feature. Visualize the feature importance using a bar plot.  \n"
   ]
  },
  {
   "cell_type": "code",
   "execution_count": null,
   "metadata": {},
   "outputs": [],
   "source": [
    "## Write your code here\n",
    "import pandas as pd\n",
    "import matplotlib.pyplot as plt\n",
    "\n",
    "# Extract the weights of the linear layer\n",
    "weights = model.linear.weight.data.numpy().flatten()\n",
    "features = X.columns\n",
    "\n",
    "#Create a DataFrame for feature importance:\n",
    "feature_importance = pd.DataFrame({'Feature': features, 'Importance': weights})\n",
    "feature_importance = feature_importance.sort_values(by='Importance', ascending=False)\n",
    "print(feature_importance)\n",
    "\n",
    "#Plot feature importance \n",
    "plt.figure(figsize=(10, 6))\n",
    "plt.bar(feature_importance['Feature'], feature_importance['Importance'])\n",
    "plt.xlabel('Features')\n",
    "plt.ylabel('Importance')\n",
    "plt.title('Feature Importance')\n",
    "plt.show()\n",
    "\n",
    "\n",
    "\n"
   ]
  },
  {
   "cell_type": "markdown",
   "metadata": {},
   "source": [
    "Double-click <b>here</b> for the Hint\n",
    "<!-- \n",
    "#Use the following code to extract the weight and create dataframe\n",
    "#Change the name of variables per your code\n",
    "\n",
    "Extract the weights of the linear layer:\n",
    "weights = model.linear.weight.data.numpy().flatten()\n",
    "features = X.columns\n",
    "Create a DataFrame for feature importance:\n",
    "feature_importance = pd.DataFrame({'Feature': features, 'Importance': weights})\n",
    "feature_importance = feature_importance.sort_values(by='Importance', ascending=False)\n",
    "print(feature_importance)\n",
    "Plot feature importance plt.figure(figsize=(10, 6))\n",
    "plt.bar(feature_importance['Feature'], feature_importance['Importance'])\n",
    "plt.xlabel('Features')\n",
    "plt.ylabel('Importance')\n",
    "plt.title('Feature Importance')\n",
    "plt.xticks(rotation=45)\n",
    "plt.show()\n",
    "-->\n"
   ]
  },
  {
   "cell_type": "markdown",
   "metadata": {},
   "source": [
    "#### Conclusion:  \n",
    "\n",
    "Congratulations on completing the project! In this final project, you built a logistic regression model to predict the outcomes of League of Legends matches based on various in-game statistics. This comprehensive project involved several key steps, including data loading and preprocessing, model implementation, training, optimization, evaluation, visualization, model saving and loading, hyperparameter tuning, and feature importance analysis. This project provided hands-on experience with the complete workflow of developing a machine learning model for binary classification tasks using PyTorch.\n",
    "\n",
    "© Copyright IBM Corporation. All rights reserved.\n"
   ]
  },
  {
   "cell_type": "code",
   "execution_count": null,
   "metadata": {},
   "outputs": [],
   "source": []
  }
 ],
 "metadata": {
  "kernelspec": {
   "display_name": "Python 3 (ipykernel)",
   "language": "python",
   "name": "python3"
  },
  "language_info": {
   "codemirror_mode": {
    "name": "ipython",
    "version": 3
   },
   "file_extension": ".py",
   "mimetype": "text/x-python",
   "name": "python",
   "nbconvert_exporter": "python",
   "pygments_lexer": "ipython3",
   "version": "3.12.0"
  },
  "prev_pub_hash": "3954a6768947e1337f1fbb623d47144c102fda57b5eb30076fea611e015e66ea"
 },
 "nbformat": 4,
 "nbformat_minor": 4
}
